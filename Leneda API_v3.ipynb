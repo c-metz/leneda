{
 "cells": [
  {
   "cell_type": "code",
   "execution_count": 1,
   "metadata": {},
   "outputs": [],
   "source": [
    "import requests\n",
    "import pandas as pd\n",
    "import subprocess\n",
    "from reportlab.lib.pagesizes import A4\n",
    "from reportlab.lib import colors\n",
    "from reportlab.platypus import SimpleDocTemplate, Table, TableStyle, Paragraph, Spacer, Image\n",
    "from reportlab.lib.styles import getSampleStyleSheet\n",
    "from datetime import datetime\n",
    "from dateutil.relativedelta import relativedelta\n",
    "import numpy as np\n",
    "from openpyxl import load_workbook\n",
    "from openpyxl.styles import PatternFill\n",
    "from openpyxl.utils import get_column_letter\n",
    "import openpyxl\n",
    "import json\n",
    "from utils import *"
   ]
  },
  {
   "cell_type": "markdown",
   "metadata": {},
   "source": [
    "### 1 Load Production Data in most granular form"
   ]
  },
  {
   "cell_type": "markdown",
   "metadata": {},
   "source": [
    "#### Load API credentials from local file"
   ]
  },
  {
   "cell_type": "code",
   "execution_count": 2,
   "metadata": {},
   "outputs": [],
   "source": [
    "# Load credentials (keep them in file on local machine)\n",
    "with open('0_credentials.json') as cred_file:\n",
    "    HEADERS = json.load(cred_file)"
   ]
  },
  {
   "cell_type": "code",
   "execution_count": 3,
   "metadata": {},
   "outputs": [],
   "source": [
    "# Load information about PV installations\n",
    "dict_inst = pd.read_excel(\"1_Installations.xlsx\",\n",
    "                        index_col=0).to_dict(\"index\")"
   ]
  },
  {
   "cell_type": "markdown",
   "metadata": {},
   "source": [
    "For every PV installation, download all or the latest data and save to raw data files:"
   ]
  },
  {
   "cell_type": "code",
   "execution_count": null,
   "metadata": {},
   "outputs": [],
   "source": [
    "create_excel_files_from_scratch = True   # if data should be downloaded from the very beginning (use if no file existing yet)\n",
    "\n",
    "# Check if there is an Excel file for the given installation\n",
    "for site_name, site_info in dict_inst.items():\n",
    "    ls_pod = [val for key, val in site_info.items() if \"POD_\" in key and pd.notna(val)]\n",
    "    for pod in ls_pod:\n",
    "        try:\n",
    "            df_raw = pd.read_excel(f\"0_Raw_production_data_per_installation\\{site_name}_{pod}.xlsx\", \n",
    "                                    index_col=0)\n",
    "            # If yes, check for the latest date with data\n",
    "            # Data for autconsumption sites has lag for locally consumed energy\n",
    "            if site_info[\"Mode (Autoconsumption/Injection)\"] == \"Autoconsumption\":\n",
    "                df_raw[\"startedAt_remaining_production_after_sharing\"] = pd.to_datetime(df_raw[\"startedAt_remaining_production_after_sharing\"])\n",
    "                start_date = df_raw[\"startedAt_remaining_production_after_sharing\"].max()\n",
    "            else:\n",
    "                df_raw[\"startedAt_measured_active_production\"] = pd.to_datetime(df_raw[\"startedAt_measured_active_production\"])\n",
    "                start_date = df_raw[\"startedAt_measured_active_production\"].max()\n",
    "            \n",
    "        except FileNotFoundError:\n",
    "            print(f\"File {site_name}_{pod}.xlsx not found. Downloading data.\")\n",
    "            start_date = \"2020-01-01T00:00:00Z\"\n",
    "        \n",
    "        if create_excel_files_from_scratch: \n",
    "            start_date = \"2020-01-01T00:00:00Z\"\n",
    "\n",
    "        # Download data since then to last available day (data is published up to last quarter hour of 3 days ago for consumption, and up to last quarter hour of yesterday for production)\n",
    "        end_date = (datetime.now() - pd.DateOffset(days=3)).strftime(\"%Y-%m-%dT22:45:00Z\")\n",
    "        if pd.to_datetime(end_date) <= pd.to_datetime(start_date):\n",
    "            print(f\"No new data for {site_name}_{pod}.\")\n",
    "            continue\n",
    "        else:\n",
    "            print(f\"Downloading data for {site_name}_{pod} from {start_date} to {end_date}.\")\n",
    "            # Download data from API\n",
    "            df_inst = process_api_data(HEADERS=HEADERS, \n",
    "                                    pod=pod,\n",
    "                                    start_date=start_date, \n",
    "                                    end_date=end_date)\n",
    "            # Update the file\n",
    "            if create_excel_files_from_scratch:\n",
    "                df_inst.to_excel(f\"0_Raw_production_data_per_installation\\{site_name}_{pod}.xlsx\")\n",
    "            else:\n",
    "                df_raw[\"startedAt_measured_active_production\"] = pd.to_datetime(df_raw[\"startedAt_measured_active_production\"])\n",
    "                start_date = pd.to_datetime(start_date)\n",
    "                end_date = pd.to_datetime(end_date)\n",
    "                if 'df_raw' in locals():\n",
    "                    df_raw = pd.concat([df_raw[df_raw[\"startedAt_measured_active_production\"]<start_date], \n",
    "                                        df_inst])\n",
    "                else:\n",
    "                    df_raw = df_inst\n",
    "                df_raw.drop_duplicates(inplace=True)\n",
    "                df_raw.reset_index(drop=True).to_excel(f\"0_Raw_production_data_per_installation\\{site_name}_{pod}.xlsx\")"
   ]
  },
  {
   "cell_type": "markdown",
   "metadata": {},
   "source": [
    "## 2 Transform 15-minute data into monthly summaries"
   ]
  },
  {
   "cell_type": "code",
   "execution_count": 14,
   "metadata": {},
   "outputs": [],
   "source": [
    "# For every installation, calculate the monthly summaries\n",
    "dict_monthly_summaries = {}\n",
    "\n",
    "for site_name, site_info in dict_inst.items():\n",
    "    ls_pod = [val for key, val in site_info.items() if \"POD_\" in key and pd.notna(val)]\n",
    "    ls_df = []\n",
    "    for pod in ls_pod:\n",
    "        df = pd.read_excel(f\"0_Raw_production_data_per_installation\\{site_name}_{pod}.xlsx\", \n",
    "                        index_col=0)\n",
    "        ls_df.append(df)\n",
    "    df_raw = pd.concat(ls_df)\n",
    "    columns_to_sum = [\"value_measured_active_production\", \n",
    "                    \"value_remaining_production_after_sharing\"]\n",
    "    df_raw = df_raw.groupby('startedAt_measured_active_production', as_index=False).agg(\n",
    "                                                                {col: 'sum' if col in columns_to_sum else 'first' for col in df_raw.columns}\n",
    "                                                            )\n",
    "    \n",
    "    # LU VAT rate is 0.07 for all dates prior to 2024\n",
    "    # and 0.08 for all dates after 2024\n",
    "    df_raw[\"VAT Rate\"] = np.where(pd.to_datetime(df_raw[\"startedAt_measured_active_production\"]).dt.year < 2024, 0.07, 0.08)\n",
    "    \n",
    "    if site_info[\"Mode (Autoconsumption/Injection)\"] == \"Autoconsumption\":\n",
    "        # Cut off analysis at the last complete month, as production data and consumption data are lagged\n",
    "        last_complete_month = pd.to_datetime(df_raw[\"startedAt_remaining_production_after_sharing\"]).max().replace(day=1) - pd.DateOffset(months=1)\n",
    "        df_raw = df_raw[pd.to_datetime(df_raw[\"startedAt_remaining_production_after_sharing\"]) <= last_complete_month + pd.DateOffset(months=1, days=-1)]\n",
    "    \n",
    "    dict_monthly_summaries[site_name] = calculate_monthly_summaries(df_site=df_raw, \n",
    "                                                                    autoconsumption=site_info[\"Mode (Autoconsumption/Injection)\"],\n",
    "                                                                    autoconsumption_price=site_info[\"Autoconsumption power price [EUR/kWh]\"])"
   ]
  },
  {
   "cell_type": "markdown",
   "metadata": {},
   "source": [
    "## 3 Save monthly data to formatted Excel"
   ]
  },
  {
   "cell_type": "code",
   "execution_count": null,
   "metadata": {},
   "outputs": [],
   "source": [
    "for site_name, site_info in dict_inst.items():\n",
    "    ls_pod = [val for key, val in site_info.items() if \"POD_\" in key and pd.notna(val)]\n",
    "    if len(ls_pod)==1:\n",
    "        pod = ls_pod[0]\n",
    "    else:\n",
    "        pod = \"_\".join(ls_pod)\n",
    "    process_sheet(  site_name, \n",
    "                    site_info,\n",
    "                    pod,\n",
    "                    format_monthly_data(dict_monthly_summaries[site_name]), \n",
    "                    sheet_type=site_info[\"Mode (Autoconsumption/Injection)\"].lower()\n",
    "                    )"
   ]
  },
  {
   "cell_type": "markdown",
   "metadata": {},
   "source": [
    "## 4 Generate invoices for PV installations with autoconsumption"
   ]
  },
  {
   "cell_type": "code",
   "execution_count": null,
   "metadata": {},
   "outputs": [],
   "source": [
    "idx = 1\n",
    "for inst, df_m in dict_monthly_summaries.items():\n",
    "    if dict_inst[inst][\"Mode (Autoconsumption/Injection)\"] == \"Autoconsumption\":\n",
    "        mask = (df_m[\"Year\"] == 2025) & (df_m[\"Month\"].isin([\"January\", \"February\", \"March\"]))\n",
    "        generate_invoice_for_site(inst,\n",
    "                                  df_m[mask], \n",
    "                                  idx)\n",
    "        idx += 1\n"
   ]
  },
  {
   "cell_type": "markdown",
   "metadata": {},
   "source": [
    "### 5 Add production analysis"
   ]
  },
  {
   "cell_type": "code",
   "execution_count": 17,
   "metadata": {},
   "outputs": [],
   "source": [
    "import matplotlib.pyplot as plt"
   ]
  },
  {
   "cell_type": "code",
   "execution_count": null,
   "metadata": {},
   "outputs": [],
   "source": [
    "for inst, df_m in dict_monthly_summaries.items():\n",
    "    if dict_inst[inst][\"Mode (Autoconsumption/Injection)\"] == \"Autoconsumption\":\n",
    "        # Create a new column \"Month-Year\"\n",
    "        dict_monthly_summaries[inst][\"Month-Year\"] = dict_monthly_summaries[inst][\"Month\"] + \" \" + dict_monthly_summaries[inst][\"Year\"].astype(str)\n",
    "\n",
    "        # Plot the data\n",
    "        dict_monthly_summaries[inst][[\"Self-Consumption\", \"Grid Injection\", \"Month-Year\"]].plot(\n",
    "            kind=\"bar\",\n",
    "            stacked=True,\n",
    "            title=\"Grid Injection and Self-Consumption for \" + inst + \", \" + str(dict_inst[inst]['Capacity [kWp]']) + \" kWp\",\n",
    "            ylabel=\"kWh\",\n",
    "            xlabel=\"Month-Year\",\n",
    "            figsize=(10, 5),\n",
    "            grid=False,\n",
    "            legend=True,\n",
    "            x=\"Month-Year\"\n",
    "            )"
   ]
  },
  {
   "cell_type": "code",
   "execution_count": null,
   "metadata": {},
   "outputs": [],
   "source": [
    "# Filter for installations that have autoconsumption\n",
    "combined_df = pd.concat(dict_monthly_summaries.values(), keys=dict_monthly_summaries.keys(), names=['Installation', 'Index'])\n",
    "autoconsumption_df = combined_df[combined_df.index.get_level_values('Installation').isin(\n",
    "    [name for name, info in dict_inst.items() if info[\"Mode (Autoconsumption/Injection)\"] == \"Autoconsumption\"]\n",
    ")]\n",
    "\n",
    "# Extract all self-consumption columns\n",
    "self_consumption_columns = [col for col in autoconsumption_df.columns if 'Self-Consumption Ratio' in col]\n",
    "\n",
    "# Plot the data\n",
    "plt.figure(figsize=(15, 7))\n",
    "colors = plt.cm.get_cmap('tab10', len(autoconsumption_df.index.get_level_values('Installation').unique()))\n",
    "\n",
    "for idx, installation in enumerate(autoconsumption_df.index.get_level_values('Installation').unique()):\n",
    "    projected_self_consumption_ratio = dict_inst[installation][\"Projected self-consumption ratio\"]\n",
    "    color = colors(idx)\n",
    "    plt.axhline(y=projected_self_consumption_ratio, linestyle='--', label=f'{installation} Projected Ratio', color=color)\n",
    "    df_plot = autoconsumption_df.loc[installation, self_consumption_columns]\n",
    "    plt.plot(df_plot.index, df_plot, label=installation, color=color)\n",
    "\n",
    "plt.title('Self-Consumption Ratio for All Installations')\n",
    "plt.ylabel('Self-Consumption Ratio')\n",
    "plt.xlabel('Month-Year')\n",
    "plt.grid(True)\n",
    "plt.legend()\n",
    "plt.ylim(0, 1.1)\n",
    "plt.show()\n"
   ]
  },
  {
   "cell_type": "markdown",
   "metadata": {},
   "source": [
    "### 6 Compare actual vs. projected annual production"
   ]
  },
  {
   "cell_type": "code",
   "execution_count": null,
   "metadata": {},
   "outputs": [],
   "source": [
    "# Determine the number of installations to plot\n",
    "num_installations = len(dict_monthly_summaries)\n",
    "num_cols = 2\n",
    "num_rows = (num_installations + 1) // num_cols\n",
    "\n",
    "fig, axes = plt.subplots(num_rows, num_cols, figsize=(10, 5 * num_rows))\n",
    "\n",
    "# Flatten the axes array for easy iteration\n",
    "axes = axes.flatten()\n",
    "\n",
    "for idx, (inst, df_m) in enumerate(dict_monthly_summaries.items()):\n",
    "    # Get the start of production year\n",
    "    start_year = dict_inst[inst]['Start of production'].year\n",
    "    start_year = max(2022, start_year)  # Leneda data reaches back to end of 2022 only -> only account for full years\n",
    "    \n",
    "    # Filter for complete years after the start of production\n",
    "    df_m = df_m[df_m.index.year > start_year]\n",
    "    df_m = df_m[df_m.index.year < datetime.now().year]\n",
    "    \n",
    "    # Calculate actual annual production\n",
    "    actual_annual_production = df_m.resample('Y').sum()['Production']\n",
    "    \n",
    "    # Get projected annual production\n",
    "    projected_annual_production = dict_inst[inst]['Projected annual production [kWh]']\n",
    "    \n",
    "    # Compare actual vs. projected\n",
    "    comparison_df = pd.DataFrame({\n",
    "        'Actual Production': actual_annual_production,\n",
    "        'Projected Production': [projected_annual_production] * len(actual_annual_production)\n",
    "    })\n",
    "    comparison_df = comparison_df[['Projected Production', 'Actual Production']]\n",
    "    \n",
    "    # Plot the comparison\n",
    "    comparison_df.plot(kind='bar', ax=axes[idx], title=f'{inst}, {dict_inst[inst][\"Capacity [kWp]\"]} kWp')\n",
    "    comparison_df[\"Year\"] = comparison_df.index.year.astype(int)\n",
    "    axes[idx].set_ylabel('kWh')\n",
    "    axes[idx].set_xlabel('Year')\n",
    "    axes[idx].set_xticklabels(comparison_df[\"Year\"].astype(str))\n",
    "    axes[idx].grid(True)\n",
    "    axes[idx].legend(loc='lower right')\n",
    "\n",
    "# Remove any unused subplots\n",
    "for ax in axes[num_installations:]:\n",
    "    fig.delaxes(ax)\n",
    "\n",
    "plt.tight_layout()\n",
    "plt.show()"
   ]
  },
  {
   "cell_type": "code",
   "execution_count": null,
   "metadata": {},
   "outputs": [],
   "source": [
    "# Sample data\n",
    "installations = list(dict_inst.keys())\n",
    "\n",
    "# Compute yearly production data from dict_monthly_summaries\n",
    "years = sorted(set(year for df_m in dict_monthly_summaries.values() for year in df_m.index.year if year > 2022))  # Only consider years after 2022 as Leneda data starts in 2023\n",
    "production_data = {inst: [df_m[df_m.index.year == year]['Production'].sum() for year in years] for inst, df_m in dict_monthly_summaries.items()}\n",
    "\n",
    "# Plotting\n",
    "fig, ax = plt.subplots(figsize=(15, 7))\n",
    "\n",
    "bar_width = 0.2\n",
    "index = range(len(installations))\n",
    "\n",
    "for i, year in enumerate(years):\n",
    "    production = [production_data.get(inst, [0]*len(years))[i] for inst in installations]\n",
    "    ax.bar([p + bar_width * i for p in index], production, bar_width, label=year)\n",
    "\n",
    "ax.set_xlabel('Installations')\n",
    "ax.set_ylabel('kWh')\n",
    "ax.set_title('Yearly production by site')\n",
    "ax.set_xticks([p + bar_width * 1.5 for p in index])\n",
    "ax.set_xticklabels(installations)\n",
    "ax.legend()\n",
    "\n",
    "plt.show()\n"
   ]
  },
  {
   "cell_type": "code",
   "execution_count": null,
   "metadata": {},
   "outputs": [],
   "source": [
    "# Sample data\n",
    "installations = list(dict_inst.keys())\n",
    "\n",
    "# Compute yearly production data from dict_monthly_summaries\n",
    "years = sorted(set(year for df_m in dict_monthly_summaries.values() for year in df_m.index.year if year > 2022))  # Only consider years after 2022 as Leneda data starts in 2023\n",
    "production_data = {inst: [df_m[df_m.index.year == year]['Production'].sum() for year in years] for inst, df_m in dict_monthly_summaries.items()}\n",
    "\n",
    "# Plotting\n",
    "fig, ax = plt.subplots(figsize=(10, 7))\n",
    "\n",
    "bar_width = 0.2\n",
    "index = range(len(years))\n",
    "\n",
    "for i, inst in enumerate(installations):\n",
    "    production = production_data.get(inst, [0]*len(years))\n",
    "    ax.bar([p + bar_width * i for p in index], production, bar_width, label=inst)\n",
    "\n",
    "ax.set_xlabel('Years')\n",
    "ax.set_ylabel('kWh')\n",
    "ax.set_title('Yearly production by year')\n",
    "ax.set_xticks([p + bar_width * 1.5 for p in index])\n",
    "ax.set_xticklabels(years)\n",
    "ax.legend()\n",
    "\n",
    "plt.show()\n"
   ]
  },
  {
   "cell_type": "code",
   "execution_count": null,
   "metadata": {},
   "outputs": [],
   "source": []
  }
 ],
 "metadata": {
  "kernelspec": {
   "display_name": "energy_ai",
   "language": "python",
   "name": "python3"
  },
  "language_info": {
   "codemirror_mode": {
    "name": "ipython",
    "version": 3
   },
   "file_extension": ".py",
   "mimetype": "text/x-python",
   "name": "python",
   "nbconvert_exporter": "python",
   "pygments_lexer": "ipython3",
   "version": "3.9.21"
  }
 },
 "nbformat": 4,
 "nbformat_minor": 4
}
